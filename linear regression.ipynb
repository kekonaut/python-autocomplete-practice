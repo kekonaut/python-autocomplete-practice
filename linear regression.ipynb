{
 "cells": [
  {
   "cell_type": "code",
   "execution_count": 108,
   "metadata": {
    "collapsed": true
   },
   "outputs": [
    {
     "data": {
      "image/png": "[encoded data removed]",
      "text/plain": [
       "<Figure size 432x288 with 1 Axes>"
      ]
     },
     "metadata": {},
     "output_type": "display_data"
    }
   ],
   "source": [
    "import sklearn.datasets as ds\n",
    "import matplotlib.pyplot as plt\n",
    "import torch\n",
    "import torch.nn as nn\n",
    "import torch.nn.functional\n",
    "from torch.utils.data import TensorDataset, DataLoader, random_split\n",
    "%matplotlib inline\n",
    "\n",
    "X, y = ds.load_digits(n_class=2, return_X_y=True)\n",
    "plt.imshow(X[50].reshape((8, 8)), cmap='binary')\n",
    "l = len(X)\n"
   ]
  },
  {
   "cell_type": "heading",
   "metadata": {},
   "level": 2,
   "source": [
    "Переводим данные в тензоры. Разбиваем на обучающую, тестовую и валидационную выборки"
   ]
  },
  {
   "cell_type": "code",
   "execution_count": 109,
   "metadata": {
    "collapsed": false
   },
   "outputs": [],
   "source": [
    "X = torch.LongTensor(X)\n",
    "y = torch.LongTensor(y)\n",
    "data = TensorDataset(X, y)\n",
    "train_data, test_data, val_data = random_split(data, [int(l * 0.7), int(l * 0.2), l - int(l * 0.7) - int(l * 0.2)])\n"
   ]
  },
  {
   "cell_type": "heading",
   "metadata": {},
   "level": 2,
   "source": [
    "Создаем модель"
   ]
  },
  {
   "cell_type": "code",
   "execution_count": 114,
   "metadata": {
    "collapsed": true
   },
   "outputs": [],
   "source": [
    "class Lin(torch.nn.Module):\n",
    "    def __init__(self, input):\n",
    "        super(Lin, self).__init__()\n",
    "        self.linear = nn.Linear(input, 2)\n",
    "\n",
    "    def forward(self, x):\n",
    "        out = torch.sigmoid(self.linear(x))\n",
    "        return out\n",
    "\n",
    "\n",
    "input = 8 * 8\n",
    "#output = 2\n",
    "model = Lin(input)\n"
   ]
  },
  {
   "cell_type": "heading",
   "metadata": {},
   "level": 2,
   "source": [
    "Обучаем"
   ]
  },
  {
   "cell_type": "code",
   "execution_count": 167,
   "metadata": {},
   "outputs": [],
   "source": [
    "def Validate(model, val_data):\n",
    "    val_loader = DataLoader(dataset=val_data, batch_size=10, shuffle=True)\n",
    "    model = model.eval()\n",
    "    correct = 0\n",
    "    total = 0\n",
    "    for X_batch, y_batch in val_loader:\n",
    "        y_pred = model(X_batch.float())\n",
    "        total += y_batch.size(0)\n",
    "        correct += (y_pred.argmax(1) == y_batch).sum().item()\n",
    "    return correct / total\n"
   ]
  },
  {
   "cell_type": "code",
   "execution_count": 169,
   "metadata": {
    "collapsed": false
   },
   "outputs": [
    {
     "name": "stdout",
     "output_type": "stream",
     "text": [
      "Epoch = 2, acc = 1.0, loss = 0.3133995234966278\nVAL:  Epoch = 2,acc =1.0 \nEpoch = 5, acc = 1.0, loss = 0.31327417492866516\nVAL:  Epoch = 5,acc =1.0 \nEpoch = 8, acc = 1.0, loss = 0.31330132484436035\nVAL:  Epoch = 8,acc =1.0 \nEpoch = 11, acc = 1.0, loss = 0.31335604190826416\nVAL:  Epoch = 11,acc =1.0 \nEpoch = 14, acc = 1.0, loss = 0.31329789757728577\nVAL:  Epoch = 14,acc =1.0 \nEpoch = 17, acc = 1.0, loss = 0.3132680654525757\nVAL:  Epoch = 17,acc =1.0 \nEpoch = 20, acc = 1.0, loss = 0.3132648766040802\nVAL:  Epoch = 20,acc =1.0 \n"
     ]
    },
    {
     "name": "stdout",
     "output_type": "stream",
     "text": [
      "Epoch = 23, acc = 1.0, loss = 0.3132656514644623\nVAL:  Epoch = 23,acc =1.0 \nEpoch = 26, acc = 1.0, loss = 0.31327563524246216\nVAL:  Epoch = 26,acc =1.0 \nEpoch = 29, acc = 1.0, loss = 0.31343552470207214\nVAL:  Epoch = 29,acc =1.0 \nEpoch = 32, acc = 1.0, loss = 0.31326889991760254\nVAL:  Epoch = 32,acc =1.0 \nEpoch = 35, acc = 1.0, loss = 0.3132665753364563\nVAL:  Epoch = 35,acc =1.0 \n"
     ]
    },
    {
     "name": "stdout",
     "output_type": "stream",
     "text": [
      "Epoch = 38, acc = 1.0, loss = 0.31326717138290405\nVAL:  Epoch = 38,acc =1.0 \nEpoch = 41, acc = 1.0, loss = 0.31329023838043213\nVAL:  Epoch = 41,acc =1.0 \nEpoch = 44, acc = 1.0, loss = 0.31327322125434875\nVAL:  Epoch = 44,acc =1.0 \nEpoch = 47, acc = 1.0, loss = 0.3132726550102234\nVAL:  Epoch = 47,acc =1.0 \nEpoch = 50, acc = 1.0, loss = 0.3132655918598175\nVAL:  Epoch = 50,acc =1.0 \n"
     ]
    },
    {
     "name": "stdout",
     "output_type": "stream",
     "text": [
      "Epoch = 53, acc = 1.0, loss = 0.313280314207077\nVAL:  Epoch = 53,acc =1.0 \nEpoch = 56, acc = 1.0, loss = 0.31329554319381714\nVAL:  Epoch = 56,acc =1.0 \nEpoch = 59, acc = 1.0, loss = 0.31327617168426514\nVAL:  Epoch = 59,acc =1.0 \nEpoch = 62, acc = 1.0, loss = 0.3132759630680084\nVAL:  Epoch = 62,acc =1.0 \nEpoch = 65, acc = 1.0, loss = 0.3132672607898712\nVAL:  Epoch = 65,acc =1.0 \nEpoch = 68, acc = 1.0, loss = 0.3132699728012085\n"
     ]
    },
    {
     "name": "stdout",
     "output_type": "stream",
     "text": [
      "VAL:  Epoch = 68,acc =1.0 \nEpoch = 71, acc = 1.0, loss = 0.31335198879241943\nVAL:  Epoch = 71,acc =1.0 \nEpoch = 74, acc = 1.0, loss = 0.31326958537101746\nVAL:  Epoch = 74,acc =1.0 \nEpoch = 77, acc = 1.0, loss = 0.3133503198623657\nVAL:  Epoch = 77,acc =1.0 \nEpoch = 80, acc = 1.0, loss = 0.31326788663864136\nVAL:  Epoch = 80,acc =1.0 \nEpoch = 83, acc = 1.0, loss = 0.31326916813850403\nVAL:  Epoch = 83,acc =1.0 \n"
     ]
    },
    {
     "name": "stdout",
     "output_type": "stream",
     "text": [
      "Epoch = 86, acc = 1.0, loss = 0.31328845024108887\nVAL:  Epoch = 86,acc =1.0 \nEpoch = 89, acc = 1.0, loss = 0.3133159577846527\nVAL:  Epoch = 89,acc =1.0 \nEpoch = 92, acc = 1.0, loss = 0.31336167454719543\nVAL:  Epoch = 92,acc =1.0 \nEpoch = 95, acc = 1.0, loss = 0.3132869005203247\nVAL:  Epoch = 95,acc =1.0 \nEpoch = 98, acc = 1.0, loss = 0.3133905231952667\nVAL:  Epoch = 98,acc =1.0 \n"
     ]
    }
   ],
   "source": [
    "def train_model(model, train_data, val_data, max_epochs=100):\n",
    "    optimizer = torch.optim.SGD(model.parameters(), lr=1e-2)\n",
    "    loss = nn.CrossEntropyLoss()\n",
    "    train_loader = DataLoader(dataset=train_data, batch_size=20, shuffle=True)\n",
    "    for epoch in range(max_epochs):\n",
    "        correct = 0\n",
    "        total = 0\n",
    "        for X_batch, y_batch in train_loader:\n",
    "            model = model.train()\n",
    "            y_pred = model(X_batch.float())\n",
    "            loss1 = loss(y_pred, y_batch)\n",
    "            total += y_batch.size(0)\n",
    "            correct += (y_pred.argmax(1) == y_batch).sum().item()\n",
    "            loss1.backward()\n",
    "            optimizer.step()\n",
    "            optimizer.zero_grad()\n",
    "        if epoch % 3 == 2:\n",
    "            acc = correct / total\n",
    "            print(f'Epoch = {epoch}, acc = {acc}, loss = {loss1}')\n",
    "            print(f'VAL:  Epoch = {epoch},acc ={Validate(model,val_data)} ')\n",
    "train_model(model, train_data, val_data)\n"
   ]
  },
  {
   "cell_type": "code",
   "execution_count": 138,
   "metadata": {},
   "outputs": [],
   "source": []
  },
  {
   "cell_type": "code",
   "execution_count": 138,
   "metadata": {},
   "outputs": [],
   "source": []
  },
  {
   "cell_type": "code",
   "execution_count": null,
   "metadata": {},
   "outputs": [],
   "source": []
  }
 ],
 "metadata": {
  "kernelspec": {
   "display_name": "Python 2",
   "language": "python",
   "name": "python2"
  },
  "language_info": {
   "codemirror_mode": {
    "name": "ipython",
    "version": 2
   },
   "file_extension": ".py",
   "mimetype": "text/x-python",
   "name": "python",
   "nbconvert_exporter": "python",
   "pygments_lexer": "ipython2",
   "version": "2.7.6"
  }
 },
 "nbformat": 4,
 "nbformat_minor": 0
}
