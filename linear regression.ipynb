{
 "cells": [
  {
   "cell_type": "code",
   "execution_count": 4,
   "metadata": {
    "collapsed": true
   },
   "outputs": [
    {
     "name": "stdout",
     "output_type": "stream",
     "text": [
      "[0 1 0 1 0 1 0 0 1 1 0 0 0 1 1 0 0 0 1 1 1 1 1 0 1 0 0 1 0 1 0 1 0 0 1 1 0\n 0 0 1 1 0 0 0 1 1 1 1 1 0 1 0 0 1 0 1 0 1 0 0 1 1 0 0 0 1 1 0 0 0 1 1 1 1\n 1 0 1 0 0 1 0 1 0 1 0 0 1 1 0 0 0 1 1 0 0 0 1 1 1 1 1 0 1 0 0 1 0 1 0 1 0\n 0 1 1 0 0 0 1 1 0 0 0 1 1 1 1 1 0 1 0 0 1 0 1 0 1 0 0 1 1 0 0 0 1 1 0 0 0\n 1 1 1 1 1 0 1 0 0 1 0 1 0 1 0 0 1 1 0 0 0 1 1 0 0 0 1 1 1 1 1 0 1 0 1 0 1\n 0 1 0 0 1 1 0 1 1 0 0 0 1 1 1 1 1 0 1 0 0 1 0 1 0 1 0 0 1 1 0 0 0 1 1 0 0\n 0 1 1 1 1 1 0 1 0 0 1 0 1 0 1 0 0 1 1 0 0 0 1 1 0 0 0 1 1 1 1 1 0 1 0 0 1\n 0 1 0 1 0 0 1 1 0 0 0 1 1 0 0 0 1 1 1 1 1 0 1 0 0 1 0 1 0 1 0 0 1 1 0 0 0\n 1 1 0 0 0 1 1 1 1 1 0 1 0 0 1 0 1 0 1 0 0 1 1 0 0 0 1 1 0 0 1 1 1 1 1 0 1\n 0 0 1 0 1 0 1 0 0 1 1 0 0 0 1 1 0 0 0 1 1 1 1 1 0 1 0]\n"
     ]
    },
    {
     "data": {
      "image/png": "[encoded data removed]",
      "text/plain": [
       "<Figure size 432x288 with 1 Axes>"
      ]
     },
     "metadata": {},
     "output_type": "display_data"
    }
   ],
   "source": [
    "import sklearn.datasets as ds\n",
    "import matplotlib.pyplot as plt\n",
    "import torch\n",
    "import torch.nn as nn\n",
    "import torch.nn.functional\n",
    "from torch.utils.data import TensorDataset, DataLoader, random_split\n",
    "%matplotlib inline\n",
    "\n",
    "X, y = ds.load_digits(n_class=2, return_X_y=True)\n",
    "plt.imshow(X[1].reshape((8, 8)), cmap='binary')\n",
    "l = len(X)\n",
    "print(y)\n"
   ]
  },
  {
   "cell_type": "heading",
   "metadata": {},
   "level": 2,
   "source": [
    "Переводим данные в тензоры. Разбиваем на обучающую, тестовую и валидационную выборки"
   ]
  },
  {
   "cell_type": "code",
   "execution_count": 6,
   "metadata": {},
   "outputs": [
    {
     "name": "stdout",
     "output_type": "stream",
     "text": [
      "tensor([[ 0,  0,  5,  ...,  0,  0,  0],\n        [ 0,  0,  0,  ..., 10,  0,  0],\n        [ 0,  0,  1,  ...,  3,  0,  0],\n        ...,\n        [ 0,  0,  5,  ...,  8,  1,  0],\n        [ 0,  0,  6,  ...,  4,  0,  0],\n        [ 0,  0,  6,  ...,  6,  0,  0]])\n<torch.utils.data.dataset.TensorDataset object at 0x123e70610>\n"
     ]
    }
   ],
   "source": [
    "if torch.cuda.is_available():  \n",
    "  dev = \"cuda:0\" \n",
    "else:  \n",
    "  dev = \"cpu\"  \n",
    "device = torch.device(dev) \n",
    "X = torch.LongTensor(X)\n",
    "X.to(device)\n",
    "y = torch.LongTensor(y)\n",
    "print(X)\n",
    "y.to(device)\n",
    "data = TensorDataset(X, y)\n",
    "print(data)\n",
    "train_data, test_data, val_data = random_split(data, [int(l * 0.7), int(l * 0.2), l - int(l * 0.7) - int(l * 0.2)])\n"
   ]
  },
  {
   "cell_type": "heading",
   "metadata": {},
   "level": 2,
   "source": [
    "Создаем модель"
   ]
  },
  {
   "cell_type": "code",
   "execution_count": 187,
   "metadata": {
    "collapsed": true
   },
   "outputs": [],
   "source": [
    "class Lin(torch.nn.Module):\n",
    "    def __init__(self, input):\n",
    "        super(Lin, self).__init__()\n",
    "        self.linear = nn.Linear(input, 2)\n",
    "\n",
    "    def forward(self, x):\n",
    "        out = torch.sigmoid(self.linear(x))\n",
    "        return out\n",
    "\n",
    "\n",
    "input = 8 * 8\n",
    "#output = 2\n",
    "model = Lin(input).to(device)\n"
   ]
  },
  {
   "cell_type": "heading",
   "metadata": {},
   "level": 2,
   "source": [
    "Обучаем"
   ]
  },
  {
   "cell_type": "code",
   "execution_count": 191,
   "metadata": {},
   "outputs": [],
   "source": [
    "def Validate(model, val_data):\n",
    "    val_loader = DataLoader(dataset=val_data, batch_size=10, shuffle=True)\n",
    "    model = model.eval()\n",
    "    correct = 0\n",
    "    total = 0\n",
    "    for X_batch, y_batch in val_loader:\n",
    "        y_pred = model(X_batch.float())\n",
    "        total += y_batch.size(0)\n",
    "        correct += (y_pred.argmax(1) == y_batch).sum().item()\n",
    "    return correct / total\n"
   ]
  },
  {
   "cell_type": "code",
   "execution_count": 192,
   "metadata": {},
   "outputs": [
    {
     "name": "stdout",
     "output_type": "stream",
     "text": [
      "Epoch = 2, acc = 0.9960159362549801, loss = 0.3366512954235077\n",
      "VAL:  Epoch = 2,acc =0.972972972972973 \n",
      "Epoch = 5, acc = 0.9960159362549801, loss = 0.3255610466003418\n",
      "VAL:  Epoch = 5,acc =1.0 \n",
      "Epoch = 8, acc = 0.9960159362549801, loss = 0.31664884090423584\n",
      "VAL:  Epoch = 8,acc =1.0 \n",
      "Epoch = 11, acc = 1.0, loss = 0.3150291442871094\n",
      "VAL:  Epoch = 11,acc =1.0 \n",
      "Epoch = 14, acc = 1.0, loss = 0.32689106464385986\n",
      "VAL:  Epoch = 14,acc =1.0 \n",
      "Epoch = 17, acc = 1.0, loss = 0.31632864475250244\n",
      "VAL:  Epoch = 17,acc =1.0 \n",
      "Epoch = 20, acc = 1.0, loss = 0.31540095806121826\n",
      "VAL:  Epoch = 20,acc =1.0 \n",
      "Epoch = 23, acc = 1.0, loss = 0.31589338183403015\n",
      "VAL:  Epoch = 23,acc =1.0 \n",
      "Epoch = 26, acc = 1.0, loss = 0.31505441665649414\n",
      "VAL:  Epoch = 26,acc =1.0 \n",
      "Epoch = 29, acc = 1.0, loss = 0.31404727697372437\n",
      "VAL:  Epoch = 29,acc =1.0 \n",
      "Epoch = 32, acc = 1.0, loss = 0.31397661566734314\n",
      "VAL:  Epoch = 32,acc =1.0 \n",
      "Epoch = 35, acc = 1.0, loss = 0.31388089060783386\n",
      "VAL:  Epoch = 35,acc =1.0 \n",
      "Epoch = 38, acc = 1.0, loss = 0.3151540458202362\n",
      "VAL:  Epoch = 38,acc =1.0 \n",
      "Epoch = 41, acc = 1.0, loss = 0.3193548321723938\n",
      "VAL:  Epoch = 41,acc =1.0 \n",
      "Epoch = 44, acc = 1.0, loss = 0.31401240825653076\n",
      "VAL:  Epoch = 44,acc =1.0 \n",
      "Epoch = 47, acc = 1.0, loss = 0.31383955478668213\n",
      "VAL:  Epoch = 47,acc =1.0 \n",
      "Epoch = 50, acc = 1.0, loss = 0.3153340518474579\n",
      "VAL:  Epoch = 50,acc =1.0 \n",
      "Epoch = 53, acc = 1.0, loss = 0.31389209628105164\n",
      "VAL:  Epoch = 53,acc =1.0 \n",
      "Epoch = 56, acc = 1.0, loss = 0.31366392970085144\n",
      "VAL:  Epoch = 56,acc =1.0 \n",
      "Epoch = 59, acc = 1.0, loss = 0.3136488199234009\n",
      "VAL:  Epoch = 59,acc =1.0 \n",
      "Epoch = 62, acc = 1.0, loss = 0.3233807384967804\n",
      "VAL:  Epoch = 62,acc =1.0 \n",
      "Epoch = 65, acc = 1.0, loss = 0.31368696689605713\n",
      "VAL:  Epoch = 65,acc =1.0 \n",
      "Epoch = 68, acc = 1.0, loss = 0.3136243224143982\n",
      "VAL:  Epoch = 68,acc =1.0 \n",
      "Epoch = 71, acc = 1.0, loss = 0.3221796751022339\n",
      "VAL:  Epoch = 71,acc =1.0 \n",
      "Epoch = 74, acc = 1.0, loss = 0.31464412808418274\n",
      "VAL:  Epoch = 74,acc =1.0 \n",
      "Epoch = 77, acc = 1.0, loss = 0.3136882781982422\n",
      "VAL:  Epoch = 77,acc =1.0 \n",
      "Epoch = 80, acc = 1.0, loss = 0.3134157359600067\n",
      "VAL:  Epoch = 80,acc =1.0 \n",
      "Epoch = 83, acc = 1.0, loss = 0.3145190179347992\n",
      "VAL:  Epoch = 83,acc =1.0 \n",
      "Epoch = 86, acc = 1.0, loss = 0.31355810165405273\n",
      "VAL:  Epoch = 86,acc =1.0 \n",
      "Epoch = 89, acc = 1.0, loss = 0.31393930315971375\n",
      "VAL:  Epoch = 89,acc =1.0 \n",
      "Epoch = 92, acc = 1.0, loss = 0.31434717774391174\n",
      "VAL:  Epoch = 92,acc =1.0 \n",
      "Epoch = 95, acc = 1.0, loss = 0.31430521607398987\n",
      "VAL:  Epoch = 95,acc =1.0 \n",
      "Epoch = 98, acc = 1.0, loss = 0.3138713538646698\n",
      "VAL:  Epoch = 98,acc =1.0 \n"
     ]
    }
   ],
   "source": [
    "def train_model(model, train_data, val_data, max_epochs=100):\n",
    "    optimizer = torch.optim.SGD(model.parameters(), lr=1e-2)\n",
    "    loss = nn.CrossEntropyLoss()\n",
    "    train_loader = DataLoader(dataset=train_data, batch_size=20, shuffle=True)\n",
    "    for epoch in range(max_epochs):\n",
    "        correct = 0\n",
    "        total = 0\n",
    "        for X_batch, y_batch in train_loader:\n",
    "            model = model.train()\n",
    "            y_pred = model(X_batch.float())\n",
    "            loss1 = loss(y_pred, y_batch)\n",
    "            total += y_batch.size(0)\n",
    "            correct += (y_pred.argmax(1) == y_batch).sum().item()\n",
    "            loss1.backward()\n",
    "            optimizer.step()\n",
    "            optimizer.zero_grad()\n",
    "        if epoch % 3 == 2:\n",
    "            acc = correct / total\n",
    "            print(f'Epoch = {epoch}, acc = {acc}, loss = {loss1}')\n",
    "            print(f'VAL:  Epoch = {epoch},acc ={Validate(model,val_data)} ')\n",
    "train_model(model, train_data, val_data)\n"
   ]
  },
  {
   "cell_type": "code",
   "execution_count": 138,
   "metadata": {},
   "outputs": [],
   "source": []
  },
  {
   "cell_type": "code",
   "execution_count": 138,
   "metadata": {},
   "outputs": [],
   "source": []
  },
  {
   "cell_type": "code",
   "execution_count": null,
   "metadata": {},
   "outputs": [],
   "source": []
  }
 ],
 "metadata": {
  "kernelspec": {
   "display_name": "Python 3",
   "language": "python",
   "name": "python3"
  },
  "language_info": {
   "codemirror_mode": {
    "name": "ipython",
    "version": 3
   },
   "file_extension": ".py",
   "mimetype": "text/x-python",
   "name": "python",
   "nbconvert_exporter": "python",
   "pygments_lexer": "ipython3",
   "version": "3.7.4"
  }
 },
 "nbformat": 4,
 "nbformat_minor": 1
}
