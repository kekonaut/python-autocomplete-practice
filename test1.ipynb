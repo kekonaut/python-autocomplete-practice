{
 "cells": [
  {
   "cell_type": "code",
   "execution_count": 3,
   "metadata": {
    "collapsed": true
   },
   "outputs": [],
   "source": [
    "from gensim.models import Word2Vec\n",
    "import sentencepiece as spm\n",
    "import torch\n",
    "import torch.nn as nn\n",
    "from torch.utils.data import TensorDataset, DataLoader, random_split\n",
    "import numpy as np\n"
   ]
  },
  {
   "cell_type": "code",
   "execution_count": 4,
   "metadata": {},
   "outputs": [
    {
     "data": {
      "text/plain": [
       "True"
      ]
     },
     "execution_count": 4,
     "metadata": {},
     "output_type": "execute_result"
    }
   ],
   "source": [
    "spm.SentencePieceTrainer.Train('--input=union.txt \\\n",
    "                               --model_prefix=sp \\\n",
    "                               --vocab_size=200')"
   ]
  },
  {
   "cell_type": "code",
   "execution_count": 5,
   "metadata": {},
   "outputs": [
    {
     "data": {
      "text/plain": [
       "['▁from']"
      ]
     },
     "execution_count": 5,
     "metadata": {},
     "output_type": "execute_result"
    }
   ],
   "source": [
    "sp=spm.SentencePieceProcessor()\n",
    "sp.load('sp.model')\n",
    "sp.EncodeAsPieces('from')"
   ]
  },
  {
   "cell_type": "code",
   "execution_count": 6,
   "metadata": {},
   "outputs": [
    {
     "name": "stdout",
     "output_type": "stream",
     "text": [
      "[[ 0.          0.          0.         ...  0.          0.\n   0.        ]\n [ 0.          0.          0.         ...  0.          0.\n   0.        ]\n [ 0.          0.          0.         ...  0.          0.\n   0.        ]\n ...\n [ 0.39919499  0.11708833 -0.0087068  ... -0.09696119 -0.03343872\n   0.29463592]\n [ 0.36975488  0.06408616 -0.0073666  ... -0.04508707 -0.05605901\n   0.27877277]\n [-0.18721144 -0.38798666  0.00871657 ... -0.14950565  0.06206815\n  -0.10428812]]\n"
     ]
    },
    {
     "data": {
      "text/plain": [
       "[('self', 0.9435262680053711),\n ('):', 0.9322147369384766),\n ('key', 0.8546724915504456),\n ('(', 0.851710855960846),\n ('▁self', 0.8409487009048462),\n ('pack', 0.8400065898895264),\n ('time', 0.8267315626144409),\n ('▁return', 0.8126473426818848),\n ('connection', 0.811102032661438),\n ('endpoint', 0.8006761074066162)]"
      ]
     },
     "execution_count": 6,
     "metadata": {},
     "output_type": "execute_result"
    }
   ],
   "source": [
    "sents = [sp.EncodeAsPieces(line.strip())\n",
    "         for line in open('union.txt', encoding='utf-8')]\n",
    "w2v = Word2Vec(sents)\n",
    "\n",
    "w2v.wv.save_word2vec_format('w2v_vectors.bin')\n",
    "emb_size = w2v.wv.vector_size\n",
    "\n",
    "def _piece_id_to_vect(piece_id):\n",
    "    piece = sp.id_to_piece(piece_id)\n",
    "    if piece in w2v.wv:\n",
    "        return w2v.wv[piece]\n",
    "    return np.zeros((emb_size,))\n",
    "\n",
    "emb = np.array([_piece_id_to_vect(piece_id) for piece_id in range(0, len(sp))])\n",
    "print(emb)\n",
    "np.save('vectors.npy', emb)\n",
    "w2v.wv.most_similar(sp.EncodeAsPieces('def'))\n"
   ]
  },
  {
   "cell_type": "code",
   "execution_count": 7,
   "metadata": {},
   "outputs": [],
   "source": [
    "max_seq_len = 2 * emb.shape[1]\n",
    "\n",
    "def prepare_text(text):\n",
    "    pieces = sp.EncodeAsIds(text)\n",
    "    if len(pieces) > max_seq_len:\n",
    "        pieces = pieces[:max_seq_len]\n",
    "    to_add = (max_seq_len - len(pieces))\n",
    "    pieces = pieces + to_add * [sp.pad_id()]\n",
    "    return np.array(pieces)\n",
    "\n",
    "\n",
    "def prepare_data(file1, file2, met1, met2):\n",
    "    X = []\n",
    "    y = []\n",
    "    for line in open(file1, encoding='utf-8'):\n",
    "        X.append(prepare_text(line))\n",
    "        y.append(met1)\n",
    "    for line in open(file2, encoding='utf-8'):\n",
    "        X.append(prepare_text(line))\n",
    "        y.append(met2)\n",
    "    return np.array(X), np.array(y)\n",
    "\n",
    "X, y = prepare_data('pos.txt', 'neg.txt', 1, 0)\n"
   ]
  },
  {
   "cell_type": "code",
   "execution_count": 8,
   "metadata": {},
   "outputs": [],
   "source": [
    "emb_layer = nn.Embedding.from_pretrained(torch.tensor(emb), padding_idx=sp.pad_id())\n"
   ]
  },
  {
   "cell_type": "code",
   "execution_count": 9,
   "metadata": {},
   "outputs": [
    {
     "name": "stdout",
     "output_type": "stream",
     "text": [
      "tensor([1, 1, 1,  ..., 0, 0, 0])\ntensor([[  3,  99, 190,  ...,  -1,  -1,  -1],\n        [108,   3, 110,  ...,  -1,  -1,  -1],\n        [  3, 110,   7,  ...,  -1,  -1,  -1],\n        ...,\n        [ 20,  85,  45,  ...,  -1,  -1,  -1],\n        [  3,  12,  32,  ...,  -1,  -1,  -1],\n        [ 85,  45,   7,  ...,  -1,  -1,  -1]])\ntorch.Size([9517])\ntorch.Size([9517, 200])\n"
     ]
    }
   ],
   "source": [
    "X = torch.LongTensor(X)\n",
    "y = torch.LongTensor(y)\n",
    "print(y)\n",
    "print(X)\n",
    "print(y.size())\n",
    "l = X.size(0)\n",
    "print(X.size())\n",
    "l_train, l_test = int(l * 0.7), int(l * 0.2)\n",
    "\n",
    "data = TensorDataset(X,y)\n",
    "train_ds, test_ds, val_ds = random_split(data, [l_train, l_test, l - l_train - l_test])\n"
   ]
  },
  {
   "cell_type": "code",
   "execution_count": 36,
   "metadata": {},
   "outputs": [
    {
     "name": "stdout",
     "output_type": "stream",
     "text": [
      "(200, 100)\n"
     ]
    }
   ],
   "source": [
    "emb = np.array([_piece_id_to_vect(piece_id) for piece_id in range(0, len(sp))])\n",
    "\n",
    "\n",
    "class Lin(torch.nn.Module):\n",
    "    def __init__(self, input):\n",
    "        super(Lin, self).__init__()\n",
    "        self.embedding = nn.Embedding(200, 100)\n",
    "        self.linear = nn.Linear(100, 200)\n",
    "        self.dropout = nn.Dropout(0.1)\n",
    "        self.linear = nn.Linear(200, 2)\n",
    "\n",
    "    def forward(self, x):\n",
    "        out = torch.sigmoid(self.linear(x))\n",
    "        return out\n",
    "\n",
    "\n",
    "input = emb.shape\n",
    "model = Lin(input)\n"
   ]
  },
  {
   "cell_type": "code",
   "execution_count": 37,
   "metadata": {
    "collapsed": false
   },
   "outputs": [
    {
     "name": "stdout",
     "output_type": "stream",
     "text": [
      "Epoch = 2, acc = 0.4230596006605615, loss = 0.6931471824645996\n"
     ]
    },
    {
     "name": "stdout",
     "output_type": "stream",
     "text": [
      "Epoch = 5, acc = 0.4230596006605615, loss = 0.6931471824645996\n"
     ]
    },
    {
     "name": "stdout",
     "output_type": "stream",
     "text": [
      "Epoch = 8, acc = 0.4230596006605615, loss = 0.6931471824645996\n"
     ]
    },
    {
     "name": "stdout",
     "output_type": "stream",
     "text": [
      "Epoch = 11, acc = 0.4230596006605615, loss = 0.6931471824645996\n"
     ]
    },
    {
     "name": "stdout",
     "output_type": "stream",
     "text": [
      "Epoch = 14, acc = 0.4230596006605615, loss = 0.6931471824645996\n"
     ]
    },
    {
     "name": "stdout",
     "output_type": "stream",
     "text": [
      "Epoch = 17, acc = 0.4230596006605615, loss = 0.6931471824645996\n"
     ]
    }
   ],
   "source": [
    "def train_model(model, train_data, max_epochs=20):\n",
    "    optimizer = torch.optim.SGD(model.parameters(), lr=1e-2)\n",
    "    loss = nn.CrossEntropyLoss()\n",
    "    train_loader = DataLoader(dataset=train_data, batch_size=10, shuffle=True)\n",
    "    for epoch in range(max_epochs):\n",
    "        correct = 0\n",
    "        total = 0\n",
    "        for X_batch, y_batch in train_loader:\n",
    "            model = model.train()\n",
    "            y_pred = model(X_batch.float())\n",
    "            loss1 = loss(y_pred, y_batch)\n",
    "            total += y_batch.size(0)\n",
    "            correct += (y_pred.argmax(1) == y_batch).sum().item()\n",
    "            loss1.backward()\n",
    "            optimizer.step()\n",
    "            optimizer.zero_grad()\n",
    "        if epoch % 3 == 2:\n",
    "            acc = correct / total\n",
    "            print(f'Epoch = {epoch}, acc = {acc}, loss = {loss1}')\n",
    "train_model(model, train_ds)\n"
   ]
  },
  {
   "cell_type": "code",
   "execution_count": 62,
   "metadata": {},
   "outputs": [],
   "source": []
  },
  {
   "cell_type": "code",
   "execution_count": null,
   "metadata": {},
   "outputs": [],
   "source": []
  }
 ],
 "metadata": {
  "kernelspec": {
   "display_name": "Python 3",
   "language": "python",
   "name": "python3"
  },
  "language_info": {
   "codemirror_mode": {
    "name": "ipython",
    "version": 3
   },
   "file_extension": ".py",
   "mimetype": "text/x-python",
   "name": "python",
   "nbconvert_exporter": "python",
   "pygments_lexer": "ipython3",
   "version": "3.7.4"
  }
 },
 "nbformat": 4,
 "nbformat_minor": 1
}
