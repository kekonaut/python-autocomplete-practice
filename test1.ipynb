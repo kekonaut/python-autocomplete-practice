{
 "cells": [
  {
   "cell_type": "code",
   "execution_count": 70,
   "metadata": {
    "collapsed": true
   },
   "outputs": [],
   "source": [
    "from gensim.models import Word2Vec\n",
    "import re\n",
    "import sentencepiece as spm\n",
    "import smart_open as sm\n",
    "import torch\n",
    "import torch.nn as nn\n",
    "from torch.utils.data import TensorDataset, DataLoader, random_split\n",
    "import numpy as np\n",
    "from tqdm import tqdm_notebook"
   ]
  },
  {
   "cell_type": "code",
   "execution_count": 71,
   "metadata": {},
   "outputs": [
    {
     "data": {
      "text/plain": [
       "True"
      ]
     },
     "execution_count": 71,
     "metadata": {},
     "output_type": "execute_result"
    }
   ],
   "source": [
    "spm.SentencePieceTrainer.Train('--input=union.txt \\\n",
    "                               --model_prefix=sp \\\n",
    "                               --vocab_size=200')"
   ]
  },
  {
   "cell_type": "code",
   "execution_count": 72,
   "metadata": {},
   "outputs": [
    {
     "data": {
      "text/plain": [
       "['▁from']"
      ]
     },
     "execution_count": 72,
     "metadata": {},
     "output_type": "execute_result"
    }
   ],
   "source": [
    "sp=spm.SentencePieceProcessor()\n",
    "sp.load('sp.model')\n",
    "sp.EncodeAsPieces('from')"
   ]
  },
  {
   "cell_type": "code",
   "execution_count": 79,
   "metadata": {},
   "outputs": [
    {
     "name": "stdout",
     "output_type": "stream",
     "text": [
      "[[ 0.          0.          0.         ...  0.          0.\n   0.        ]\n [ 0.          0.          0.         ...  0.          0.\n   0.        ]\n [ 0.          0.          0.         ...  0.          0.\n   0.        ]\n ...\n [-0.17007419 -0.16844232 -0.15023306 ...  0.04665544 -0.1033684\n  -0.11344565]\n [-0.07886244 -0.18945538 -0.173351   ...  0.03017846 -0.07857458\n  -0.03633285]\n [-0.13162169 -0.33412799 -0.3873907  ... -0.16333987 -0.06541425\n   0.20294599]]\n"
     ]
    },
    {
     "data": {
      "text/plain": [
       "[('self', 0.9655777812004089),\n ('endpoint', 0.9486289024353027),\n ('):', 0.9476622939109802),\n ('key', 0.9018864631652832),\n ('(', 0.8716409206390381),\n ('▁self', 0.8660987615585327),\n ('time', 0.8484920263290405),\n ('▁return', 0.8398476839065552),\n ('pack', 0.8293720483779907),\n (',', 0.79929119348526)]"
      ]
     },
     "execution_count": 79,
     "metadata": {},
     "output_type": "execute_result"
    }
   ],
   "source": [
    "sents = [sp.EncodeAsPieces(line.strip())\n",
    "         for line in open('union.txt', encoding='utf-8')]\n",
    "w2v = Word2Vec(sents)\n",
    "\n",
    "w2v.wv.save_word2vec_format('w2v_vectors.bin')\n",
    "emb_size = w2v.wv.vector_size\n",
    "\n",
    "def _piece_id_to_vect(piece_id):\n",
    "    piece = sp.id_to_piece(piece_id)\n",
    "    if piece in w2v.wv:\n",
    "        return w2v.wv[piece]\n",
    "    return np.zeros((emb_size,))\n",
    "\n",
    "emb = np.array([_piece_id_to_vect(piece_id) for piece_id in range(0, len(sp))])\n",
    "print(emb)\n",
    "np.save('vectors.npy', emb)\n",
    "w2v.wv.most_similar(sp.EncodeAsPieces('def'))\n"
   ]
  },
  {
   "cell_type": "code",
   "execution_count": 136,
   "metadata": {},
   "outputs": [],
   "source": [
    "max_seq_len = 2 * emb.shape[1]\n",
    "\n",
    "def prepare_text(text):\n",
    "    pieces = sp.EncodeAsIds(text)\n",
    "    if len(pieces) > max_seq_len:\n",
    "        pieces = pieces[:max_seq_len]\n",
    "    to_add = (max_seq_len - len(pieces))\n",
    "    pieces = pieces + to_add * [sp.pad_id()]\n",
    "    return np.array(pieces)\n",
    "\n",
    "\n",
    "def prepare_data(file1, file2, met1, met2):\n",
    "    X = []\n",
    "    y = []\n",
    "    for line in open(file1, encoding='utf-8'):\n",
    "        X.append(prepare_text(line))\n",
    "        y.append(met1)\n",
    "    for line in open(file2, encoding='utf-8'):\n",
    "        X.append(prepare_text(line))\n",
    "        y.append(met2)\n",
    "    return np.array(X), np.array(y)\n",
    "\n",
    "X, y = prepare_data('pos.txt', 'neg.txt', 1, 0)\n"
   ]
  },
  {
   "cell_type": "code",
   "execution_count": 137,
   "metadata": {},
   "outputs": [],
   "source": [
    "emb_layer = nn.Embedding.from_pretrained(torch.tensor(emb), padding_idx=sp.pad_id())\n"
   ]
  },
  {
   "cell_type": "code",
   "execution_count": 138,
   "metadata": {},
   "outputs": [
    {
     "name": "stdout",
     "output_type": "stream",
     "text": [
      "tensor([1, 1, 1,  ..., 0, 0, 0])\ntensor([[  3, 100, 192,  ...,  -1,  -1,  -1],\n        [107,   3, 114,  ...,  -1,  -1,  -1],\n        [  3, 114,   6,  ...,  -1,  -1,  -1],\n        ...,\n        [ 20,  87,  46,  ...,  -1,  -1,  -1],\n        [  3,  13,  31,  ...,  -1,  -1,  -1],\n        [ 87,  46,   6,  ...,  -1,  -1,  -1]])\ntorch.Size([9517])\ntorch.Size([9517, 200])\n"
     ]
    }
   ],
   "source": [
    "X = torch.LongTensor(X)\n",
    "y = torch.LongTensor(y)\n",
    "print(y)\n",
    "print(X)\n",
    "print(y.size())\n",
    "l = X.size(0)\n",
    "print(X.size())\n",
    "l_train, l_test = int(l * 0.7), int(l * 0.2)\n",
    "\n",
    "data = TensorDataset(X,y)\n",
    "train_ds, test_ds, val_ds = random_split(data, [l_train, l_test, l - l_train - l_test])\n"
   ]
  },
  {
   "cell_type": "code",
   "execution_count": 143,
   "metadata": {},
   "outputs": [
    {
     "name": "stdout",
     "output_type": "stream",
     "text": [
      "(200, 100)\n"
     ]
    }
   ],
   "source": [
    "emb = np.array([_piece_id_to_vect(piece_id) for piece_id in range(0, len(sp))])\n",
    "print(emb.shape)\n",
    "\n",
    "\n",
    "class Lin(torch.nn.Module):\n",
    "    def __init__(self, input):\n",
    "        super(Lin, self).__init__()\n",
    "        self.embedding = nn.Embedding(200, 100)\n",
    "        self.linear = nn.Linear(200, 2)\n",
    "\n",
    "    def forward(self, x):\n",
    "        out = torch.sigmoid(self.linear(x))\n",
    "        return out\n",
    "\n",
    "\n",
    "input = emb.shape\n",
    "model = Lin(input)\n"
   ]
  },
  {
   "cell_type": "code",
   "execution_count": 145,
   "metadata": {
    "collapsed": false
   },
   "outputs": [
    {
     "name": "stdout",
     "output_type": "stream",
     "text": [
      "Epoch = 2, acc = 0.47740579492568685, loss = 0.6931471824645996\n"
     ]
    },
    {
     "name": "stdout",
     "output_type": "stream",
     "text": [
      "Epoch = 5, acc = 0.5060801681429214, loss = 0.6931471824645996\n"
     ]
    },
    {
     "name": "stdout",
     "output_type": "stream",
     "text": [
      "Epoch = 8, acc = 0.5056297853175199, loss = 0.31326165795326233\n"
     ]
    }
   ],
   "source": [
    "def train_model(model, train_data, max_epochs=20):\n",
    "    optimizer = torch.optim.SGD(model.parameters(), lr=1e-2)\n",
    "    loss = nn.CrossEntropyLoss()\n",
    "    train_loader = DataLoader(dataset=train_data, batch_size=1, shuffle=True)\n",
    "    for epoch in range(max_epochs):\n",
    "        correct = 0\n",
    "        total = 0\n",
    "        for X_batch, y_batch in train_loader:\n",
    "            model = model.train()\n",
    "            y_pred = model(X_batch.float())\n",
    "            loss1 = loss(y_pred, y_batch)\n",
    "            total += y_batch.size(0)\n",
    "            correct += (y_pred.argmax(1) == y_batch).sum().item()\n",
    "            loss1.backward()\n",
    "            optimizer.step()\n",
    "            optimizer.zero_grad()\n",
    "        if epoch % 3 == 2:\n",
    "            acc = correct / total\n",
    "            print(f'Epoch = {epoch}, acc = {acc}, loss = {loss1}')\n",
    "train_model(model, train_ds)\n"
   ]
  },
  {
   "cell_type": "code",
   "execution_count": 62,
   "metadata": {},
   "outputs": [],
   "source": []
  },
  {
   "cell_type": "code",
   "execution_count": null,
   "metadata": {},
   "outputs": [],
   "source": []
  }
 ],
 "metadata": {
  "kernelspec": {
   "display_name": "Python 3",
   "language": "python",
   "name": "python3"
  },
  "language_info": {
   "codemirror_mode": {
    "name": "ipython",
    "version": 3
   },
   "file_extension": ".py",
   "mimetype": "text/x-python",
   "name": "python",
   "nbconvert_exporter": "python",
   "pygments_lexer": "ipython3",
   "version": "3.7.4"
  }
 },
 "nbformat": 4,
 "nbformat_minor": 1
}
