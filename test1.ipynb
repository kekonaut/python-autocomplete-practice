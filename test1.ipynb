{
 "cells": [
  {
   "cell_type": "code",
   "execution_count": 39,
   "metadata": {
    "collapsed": true
   },
   "outputs": [],
   "source": [
    "from gensim.models import Word2Vec\n",
    "from tokenizers import BertWordPieceTokenizer\n",
    "import torch\n",
    "import torch.nn as nn\n",
    "from torch.utils.data import Dataset, TensorDataset, DataLoader, random_split\n",
    "import numpy as np\n"
   ]
  },
  {
   "cell_type": "code",
   "execution_count": 40,
   "metadata": {},
   "outputs": [],
   "source": [
    "tokenizer = BertWordPieceTokenizer()\n"
   ]
  },
  {
   "cell_type": "code",
   "execution_count": 41,
   "metadata": {},
   "outputs": [
    {
     "data": {
      "text/plain": [
       "['from']"
      ]
     },
     "execution_count": 41,
     "metadata": {},
     "output_type": "execute_result"
    }
   ],
   "source": [
    "tokenizer.train(['union.txt'])\n",
    "tokenizer.save('/Users/mariiaaksenova/PycharmProjects/python-autofill','tokenizer1')\n",
    "encoded = tokenizer.encode('from')\n",
    "encoded.tokens"
   ]
  },
  {
   "cell_type": "code",
   "execution_count": 47,
   "metadata": {
    "collapsed": true
   },
   "outputs": [
    {
     "name": "stdout",
     "output_type": "stream",
     "text": [
      "[[ 0.          0.          0.         ...  0.          0.\n   0.        ]\n [ 0.          0.          0.         ...  0.          0.\n   0.        ]\n [ 0.          0.          0.         ...  0.          0.\n   0.        ]\n ...\n [ 0.          0.          0.         ...  0.          0.\n   0.        ]\n [-0.64661413 -0.12680596 -0.55052567 ... -0.65218377 -0.52517068\n   0.62986505]\n [ 0.          0.          0.         ...  0.          0.\n   0.        ]]\n"
     ]
    }
   ],
   "source": [
    "sents = []\n",
    "i = 0\n",
    "line1 = ''\n",
    "with open('union.txt', 'r') as f:\n",
    "    for line in f:\n",
    "        i += 1\n",
    "        line1 = line1 + line\n",
    "        if i % 31 == 0:\n",
    "            sents.append(tokenizer.encode(line1).tokens)\n",
    "            line1 = ''\n",
    "w2v = Word2Vec(sents)\n",
    "\n",
    "w2v.wv.save_word2vec_format('w2v_vectors.bin')\n",
    "emb_size = w2v.wv.vector_size\n",
    "\n",
    "def _piece_id_to_vect(piece_id):\n",
    "    piece = piece_id.tokens\n",
    "    for smallpiece in piece:\n",
    "        if smallpiece in w2v.wv:\n",
    "            return w2v.wv[smallpiece]\n",
    "        return np.zeros((emb_size,))\n",
    "\n",
    "emb = np.array([_piece_id_to_vect(tokenizer.encode(line)) for line in open('tokenizer1-vocab.txt', 'r')])\n",
    "print(emb)\n",
    "np.save('vectors.npy', emb)\n"
   ]
  },
  {
   "cell_type": "code",
   "execution_count": 48,
   "metadata": {},
   "outputs": [
    {
     "name": "stdout",
     "output_type": "stream",
     "text": [
      "[[   7    5   18 ...    0    0    0]\n [   6    6    6 ...    0    0    0]\n [2179   41   41 ...    0    0    0]\n ...\n [  32  577   40 ...    0    0    0]\n [ 565   40  626 ...    0    0    0]\n [ 577   40  440 ...    0    0    0]]\n[1 1 1 ... 0 0 0]\n"
     ]
    }
   ],
   "source": [
    "def prepare_text(text):\n",
    "    pieces = tokenizer.encode(text).ids\n",
    "    if len(pieces) > 120:\n",
    "        pieces = pieces[:120]\n",
    "    else:\n",
    "        for i in range(0, 120 - len(pieces)):\n",
    "            pieces.append(0)\n",
    "    return np.array(pieces)\n",
    "\n",
    "\n",
    "def prepare_data(file1, file2, met1, met2):\n",
    "    X = []\n",
    "    y = []\n",
    "    for line in open(file1, encoding='utf-8'):\n",
    "        X.append(prepare_text(line))\n",
    "        y.append(met1)\n",
    "    for line in open(file2, encoding='utf-8'):\n",
    "        X.append(prepare_text(line))\n",
    "        y.append(met2)\n",
    "    return np.array(X), np.array(y)\n",
    "\n",
    "X, y = prepare_data('pos.txt', 'neg.txt', 1, 0)\n",
    "print(X)\n",
    "print(y)\n"
   ]
  },
  {
   "cell_type": "code",
   "execution_count": 49,
   "metadata": {},
   "outputs": [],
   "source": [
    "emb_layer = nn.Embedding.from_pretrained(torch.tensor(emb))\n"
   ]
  },
  {
   "cell_type": "code",
   "execution_count": 50,
   "metadata": {},
   "outputs": [
    {
     "name": "stdout",
     "output_type": "stream",
     "text": [
      "tensor([1, 1, 1,  ..., 0, 0, 0])\ntensor([[   7,    5,   18,  ...,    0,    0,    0],\n        [   6,    6,    6,  ...,    0,    0,    0],\n        [2179,   41,   41,  ...,    0,    0,    0],\n        ...,\n        [  32,  577,   40,  ...,    0,    0,    0],\n        [ 565,   40,  626,  ...,    0,    0,    0],\n        [ 577,   40,  440,  ...,    0,    0,    0]])\ntorch.Size([9517])\ntorch.Size([9517, 120])\n"
     ]
    }
   ],
   "source": [
    "X = torch.LongTensor(X)\n",
    "y = torch.LongTensor(y)\n",
    "print(y)\n",
    "print(X)\n",
    "print(y.size())\n",
    "l = X.size(0)\n",
    "print(X.size())\n",
    "l_train, l_test = int(l * 0.7), int(l * 0.2)\n",
    "\n",
    "data = TensorDataset(X, y)\n",
    "train_ds, test_ds, val_ds = random_split(data, [l_train, l_test, l - l_train - l_test])\n"
   ]
  },
  {
   "cell_type": "code",
   "execution_count": 64,
   "metadata": {},
   "outputs": [
    {
     "name": "stdout",
     "output_type": "stream",
     "text": [
      "(2638, 100)\n"
     ]
    }
   ],
   "source": [
    "class Lin(torch.nn.Module):\n",
    "    def __init__(self, input):\n",
    "        super(Lin, self).__init__()\n",
    "        self.embedding = nn.Embedding(100,2638)\n",
    "        self.linear = nn.Linear(100, 2)\n",
    "\n",
    "    def forward(self, *args):\n",
    "        result = 0\n",
    "        for arg in args:\n",
    "            result += self.embedding(arg)\n",
    "        out = torch.sigmoid(self.linear(result))\n",
    "        return out\n",
    "\n",
    "\n",
    "input = emb.shape\n",
    "print(input)\n",
    "model = Lin(input)\n"
   ]
  },
  {
   "cell_type": "code",
   "execution_count": 67,
   "metadata": {},
   "outputs": [],
   "source": [
    "model = nn.Sequential(nn.EmbeddingBag.from_pretrained(torch.FloatTensor(emb)),\n",
    "                      nn.Linear(emb.shape[1], 20),\n",
    "                      nn.Linear(20, 2),\n",
    "                      nn.Softmax(dim=1))"
   ]
  },
  {
   "cell_type": "code",
   "execution_count": 69,
   "metadata": {
    "collapsed": false
   },
   "outputs": [
    {
     "name": "stdout",
     "output_type": "stream",
     "text": [
      "Epoch = 2, acc = 0.5808437171595856, loss = 0.5428919792175293\n"
     ]
    },
    {
     "name": "stdout",
     "output_type": "stream",
     "text": [
      "Epoch = 5, acc = 0.5808437171595856, loss = 0.5368549227714539\n"
     ]
    },
    {
     "name": "stdout",
     "output_type": "stream",
     "text": [
      "Epoch = 8, acc = 0.5808437171595856, loss = 0.5479018092155457\n"
     ]
    },
    {
     "name": "stdout",
     "output_type": "stream",
     "text": [
      "Epoch = 11, acc = 0.5808437171595856, loss = 0.5291348099708557\n"
     ]
    },
    {
     "name": "stdout",
     "output_type": "stream",
     "text": [
      "Epoch = 14, acc = 0.5808437171595856, loss = 0.8719375133514404\n"
     ]
    },
    {
     "name": "stdout",
     "output_type": "stream",
     "text": [
      "Epoch = 17, acc = 0.5808437171595856, loss = 0.8611154556274414\n"
     ]
    }
   ],
   "source": [
    "def train_model(model, train_data, max_epochs=20):\n",
    "    optimizer = torch.optim.SGD(model.parameters(), lr=1e-2)\n",
    "    loss = nn.CrossEntropyLoss()\n",
    "    train_loader = DataLoader(dataset=train_data, batch_size=10, shuffle=True)\n",
    "    for epoch in range(max_epochs):\n",
    "        correct = 0\n",
    "        total = 0\n",
    "        for X_batch, y_batch in train_loader:\n",
    "            model = model.train()\n",
    "            y_pred = model(X_batch)\n",
    "            loss1 = loss(y_pred, y_batch)\n",
    "            total += y_batch.size(0)\n",
    "            correct += (y_pred.argmax(1) == y_batch).sum().item()\n",
    "            loss1.backward()\n",
    "            optimizer.step()\n",
    "            optimizer.zero_grad()\n",
    "        if epoch % 3 == 2:\n",
    "            acc = correct / total\n",
    "            print(f'Epoch = {epoch}, acc = {acc}, loss = {loss1}')\n",
    "train_model(model, train_ds)\n",
    "PATH = 'text'\n",
    "torch.save(model.state_dict(), PATH)\n",
    "\n"
   ]
  },
  {
   "cell_type": "code",
   "execution_count": 70,
   "metadata": {},
   "outputs": [],
   "source": [
    ""
   ]
  },
  {
   "cell_type": "code",
   "execution_count": null,
   "metadata": {},
   "outputs": [],
   "source": []
  }
 ],
 "metadata": {
  "kernelspec": {
   "display_name": "Python 3",
   "language": "python",
   "name": "python3"
  },
  "language_info": {
   "codemirror_mode": {
    "name": "ipython",
    "version": 3
   },
   "file_extension": ".py",
   "mimetype": "text/x-python",
   "name": "python",
   "nbconvert_exporter": "python",
   "pygments_lexer": "ipython3",
   "version": "3.7.4"
  }
 },
 "nbformat": 4,
 "nbformat_minor": 1
}
