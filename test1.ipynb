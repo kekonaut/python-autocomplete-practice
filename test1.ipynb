{
 "cells": [
  {
   "cell_type": "code",
   "execution_count": 4,
   "metadata": {
    "collapsed": true
   },
   "outputs": [],
   "source": [
    "from gensim.models import Word2Vec\n",
    "import re\n",
    "import sentencepiece as spm\n",
    "import smart_open as sm\n",
    "import torch\n",
    "import torch.nn as nn\n",
    "from torch.utils.data import TensorDataset, DataLoader, random_split\n",
    "import numpy as np\n",
    "from tqdm import tqdm_notebook"
   ]
  },
  {
   "cell_type": "code",
   "execution_count": 8,
   "metadata": {},
   "outputs": [
    {
     "data": {
      "text/plain": [
       "True"
      ]
     },
     "execution_count": 8,
     "metadata": {},
     "output_type": "execute_result"
    }
   ],
   "source": [
    "spm.SentencePieceTrainer.Train('--input=python50k.json \\\n",
    "                               --model_prefix=spm \\\n",
    "                               --vocab_size=5000')"
   ]
  },
  {
   "cell_type": "code",
   "execution_count": 9,
   "metadata": {},
   "outputs": [
    {
     "data": {
      "text/plain": [
       "['▁', 'from']"
      ]
     },
     "execution_count": 9,
     "metadata": {},
     "output_type": "execute_result"
    }
   ],
   "source": [
    "sp=spm.SentencePieceProcessor()\n",
    "sp.load('spm.model')\n",
    "sp.EncodeAsPieces('from')"
   ]
  },
  {
   "cell_type": "code",
   "execution_count": 27,
   "metadata": {},
   "outputs": [
    {
     "name": "stdout",
     "output_type": "stream",
     "text": [
      "[[ 0.          0.          0.         ...  0.          0.\n   0.        ]\n [ 0.          0.          0.         ...  0.          0.\n   0.        ]\n [ 0.          0.          0.         ...  0.          0.\n   0.        ]\n ...\n [ 0.          0.          0.         ...  0.          0.\n   0.        ]\n [ 0.03050349 -0.04217246  0.01144386 ...  0.00616499 -0.02676181\n  -0.02751306]\n [ 1.6454339  -1.40280998 -0.43510774 ...  0.25090417  0.91573763\n   1.06865394]]\n"
     ]
    },
    {
     "data": {
      "text/plain": [
       "[('about', 0.8200346231460571),\n ('▁out', 0.8200070858001709),\n ('▁import', 0.781629741191864),\n ('some', 0.7804829478263855),\n ('▁get', 0.7751960158348083),\n ('▁mode', 0.7644646167755127),\n ('▁global', 0.7623931169509888),\n ('▁open', 0.7623334527015686),\n ('▁so', 0.7619320750236511),\n ('fixed', 0.7593595385551453)]"
      ]
     },
     "execution_count": 27,
     "metadata": {},
     "output_type": "execute_result"
    }
   ],
   "source": [
    "sents = [sp.EncodeAsPieces(line.strip())\n",
    "         for line in open('python50k.json', encoding='utf-8')]\n",
    "w2v = Word2Vec(sents)\n",
    "\n",
    "w2v.wv.save_word2vec_format('w2v_vectors.bin')\n",
    "emb_size = w2v.wv.vector_size\n",
    "\n",
    "def _piece_id_to_vect(piece_id):\n",
    "    piece = sp.id_to_piece(piece_id)\n",
    "    if piece in w2v.wv:\n",
    "        return w2v.wv[piece]\n",
    "    return np.zeros((emb_size,))\n",
    "\n",
    "emb = np.array([_piece_id_to_vect(piece_id) for piece_id in range(0, len(sp))])\n",
    "print(emb)\n",
    "np.save('vectors.npy', emb)\n",
    "w2v.wv.most_similar(sp.EncodeAsPieces('from'))\n"
   ]
  },
  {
   "cell_type": "code",
   "execution_count": 25,
   "metadata": {},
   "outputs": [],
   "source": [
    "max_seq_len = 120\n",
    "\n",
    "def prepare_text(text):\n",
    "    pieces = sp.EncodeAsIds(text)\n",
    "    if len(pieces) > max_seq_len:\n",
    "        pieces = pieces[:max_seq_len]\n",
    "    to_add = (max_seq_len - len(pieces))\n",
    "    pieces = pieces + to_add * [sp.pad_id()]\n",
    "    return np.array(pieces)\n",
    "\n",
    "\n",
    "def prepare_data(file):\n",
    "    X = []\n",
    "    for line in open(file, encoding='utf-8'):\n",
    "        X.append(prepare_text(line))\n",
    "    return np.array(X)\n",
    "\n",
    "X = prepare_data('python50k.json')\n"
   ]
  },
  {
   "cell_type": "code",
   "execution_count": 36,
   "metadata": {},
   "outputs": [],
   "source": [
    "emb_layer = nn.Embedding.from_pretrained(torch.tensor(emb), padding_idx=sp.pad_id())\n"
   ]
  },
  {
   "cell_type": "code",
   "execution_count": 37,
   "metadata": {},
   "outputs": [
    {
     "name": "stdout",
     "output_type": "stream",
     "text": [
      "1000\n"
     ]
    }
   ],
   "source": [
    "X = torch.LongTensor(X)\n",
    "l = X.size(0)\n",
    "l_train, l_test = int(l * 0.7), int(l * 0.2)\n",
    "\n",
    "data = TensorDataset(X)\n",
    "train_ds, test_ds, val_ds = random_split(data, [l_train, l_test, l - l_train - l_test])"
   ]
  },
  {
   "cell_type": "code",
   "execution_count": 33,
   "metadata": {},
   "outputs": [],
   "source": [
    "model = nn.Sequential(nn.EmbeddingBag.from_pretrained(torch.FloatTensor(emb)),\n",
    "                      nn.Linear(emb.shape[1], 20),\n",
    "                      nn.Softmax(dim=1))"
   ]
  },
  {
   "cell_type": "code",
   "execution_count": 35,
   "metadata": {},
   "outputs": [],
   "source": [
    ""
   ]
  },
  {
   "cell_type": "code",
   "execution_count": null,
   "metadata": {},
   "outputs": [],
   "source": []
  }
 ],
 "metadata": {
  "kernelspec": {
   "display_name": "Python 2",
   "language": "python",
   "name": "python2"
  },
  "language_info": {
   "codemirror_mode": {
    "name": "ipython",
    "version": 2
   },
   "file_extension": ".py",
   "mimetype": "text/x-python",
   "name": "python",
   "nbconvert_exporter": "python",
   "pygments_lexer": "ipython2",
   "version": "2.7.6"
  }
 },
 "nbformat": 4,
 "nbformat_minor": 0
}
